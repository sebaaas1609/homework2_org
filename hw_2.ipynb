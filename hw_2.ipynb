{
 "cells": [
  {
   "cell_type": "markdown",
   "id": "60171755",
   "metadata": {},
   "source": [
    "# Homework 2 Sebastian Granizo"
   ]
  },
  {
   "cell_type": "markdown",
   "id": "14ff7fbc",
   "metadata": {},
   "source": [
    " ## 1. List and briefly define the possible states that define an instruction execution."
   ]
  },
  {
   "cell_type": "markdown",
   "id": "bd0bc7bf",
   "metadata": {},
   "source": [
    "#### - Cálculo de la dirección de la instrucción: En esta etapa, el procesador determina la dirección de la siguiente instrucción a ejecutar en la secuencia de instrucciones. Esta dirección se almacena en un registro especial llamado \"contador de programa\" (PC).\n",
    "\n",
    "#### - Obtención de instrucciones: El procesador lee la instrucción que se encuentra en la dirección del contador de programa desde la memoria principal.\n",
    "\n",
    "#### - Decodificación de operaciones de instrucciones: El procesador analiza la instrucción que se acaba de leer para determinar qué operación se debe realizar y cuáles son los operandos involucrados en la operación. Esta información se almacena en registros internos del procesador.\n",
    "\n",
    "#### - Cálculo de la dirección del operando: Si la operación implica acceder a los datos almacenados en la memoria principal o en los dispositivos de E/S, el procesador debe calcular la dirección del operando correspondiente. Esta dirección se almacena en un registro interno del procesador.\n",
    "\n",
    "#### - Obtención de operando: El procesador accede a la memoria principal o a los dispositivos de E/S para obtener los datos que necesita para realizar la operación.\n",
    "\n",
    "#### - Operación de datos: El procesador realiza la operación especificada en la instrucción utilizando los operandos que se obtuvieron en los pasos anteriores. El resultado se almacena en registros internos del procesador.\n",
    "\n",
    "#### - Almacenamiento de operandos: El resultado de la operación se almacena en la memoria principal o en los dispositivos de E/S según corresponda.\n",
    "\n",
    "#### respuestas de : \n",
    "\n",
    "#### https://www.geeksforgeeks.org/instruction-execution-and-straight-line-sequencing-in-co/\n",
    "#### https://unacademy.com/content/nta-ugc/study-material/computer-science/what-is-the-instruction-cycle-in-computer-architecture/\n",
    "    "
   ]
  },
  {
   "cell_type": "markdown",
   "id": "334ce186",
   "metadata": {},
   "source": []
  },
  {
   "cell_type": "markdown",
   "id": "8b28f14a",
   "metadata": {},
   "source": [
    "## 2. What types of transfers must a computer’s interconnection structure (e.g., bus) support?"
   ]
  },
  {
   "cell_type": "markdown",
   "id": "a7d4a6d1",
   "metadata": {},
   "source": [
    "#### - De memoria a procesador: El procesador es la unidad central de procesamiento de un sistema informático y necesita acceder a la memoria para leer instrucciones y datos necesarios para ejecutar tareas. La memoria es el lugar donde se almacenan los programas y los datos que se utilizan para procesar la información. Cuando el procesador necesita leer una instrucción o un dato, lo obtiene de la memoria.\n",
    "\n",
    "#### - Procesador a memoria: Después de procesar los datos, el procesador puede necesitar almacenar los resultados en la memoria para su uso posterior. Para hacerlo, el procesador escribe la unidad de datos en la memoria.\n",
    "\n",
    "#### - I/O al procesador: La entrada/salida (I/O) se refiere a la comunicación entre el procesador y los dispositivos periféricos como el teclado, el ratón, la pantalla y otros dispositivos de entrada y salida. Cuando el procesador necesita leer datos de un dispositivo de I/O, lo hace a través de un módulo de E/S que actúa como intermediario.\n",
    "\n",
    "#### - Procesador a I/O: Cuando el procesador necesita enviar datos a un dispositivo de I/O, lo hace a través de un módulo de E/S que actúa como intermediario para transferir los datos al dispositivo periférico correspondiente.\n",
    "\n",
    "#### - I/O hacia o desde la memoria: En algunos casos, los datos pueden ser transferidos directamente entre la memoria y el dispositivo de I/O, sin pasar por el procesador. Esto se hace mediante el acceso directo a la memoria a través de un módulo de I/O. Este tipo de transferencia de datos puede ser más rápida y eficiente que pasar por el procesador, especialmente cuando se transfieren grandes cantidades de datos.\n",
    "\n"
   ]
  },
  {
   "cell_type": "markdown",
   "id": "ea665351",
   "metadata": {},
   "source": [
    "## 3. Consider a hypothetical 32-bit microprocessor having 32-bit instructions composed of two fields: the first byte contains the opcode and the remainder the immediate operand or an operand address.\n"
   ]
  },
  {
   "cell_type": "markdown",
   "id": "e628ac8d",
   "metadata": {},
   "source": [
    "#### a) What is the maximum directly addressable memory capacity (in bytes)?\n",
    "#### La capacidad maxima es 2^24 =16 ,777, 216 bytes. \n",
    "\n",
    "#### b) Discuss the impact on the system speed if the microprocessor bus has:\n",
    "\n",
    "#### 1. 32-bit local address bus and a 16-bit local data bus, or\n",
    "#### Si el bus de direcciones tiene 32 bits, entonces la dirección puede ser enviada y procesada de una sola vez. Pero si el bus de datos solo tiene 16 bits, entonces se necesitarán 2 ciclos para obtener una instrucción o un dato de 32 bits. Esto significa que la información tendrá que ser dividida en dos partes para ser transmitida y procesada.\n",
    "#### 2. 16-bit local address bus and a 16-bit local data bus.\n",
    "#### Si el bus de direcciones es de 16 bits, el procesador no podrá acceder a toda la memoria en una sola transferencia. Para hacerlo, necesitará dividir la dirección en dos partes y realizar dos pasos para acceder a toda la memoria. Además, si el bus de datos es de 16 bits, el procesador también necesitará dos ciclos para leer o escribir instrucciones o datos de 32 bits. Esto significa que la información tendrá que ser dividida en dos partes para ser procesada o almacenada.\n",
    "#### c) How many bits are needed for the program counter and the instruction register?\n",
    "#### El contador de programa debe ser de 24 bits. El registro de instrucciones debe ser de 32 bits.\n"
   ]
  },
  {
   "cell_type": "markdown",
   "id": "c412daa4",
   "metadata": {},
   "source": [
    "## 4. A microprocessor is clocked at a rate of 5 GHz."
   ]
  },
  {
   "cell_type": "markdown",
   "id": "f8942483",
   "metadata": {},
   "source": [
    "#### a) How long is a clock cycle?\n",
    "#### Frecuencia 5GHz = 5,000,000,000\n",
    "#### Rotacion en 1 segundo es igual a 1/5,000,000,000\n",
    "#### El ciclo es de 0.20 nano segundos"
   ]
  },
  {
   "cell_type": "markdown",
   "id": "2b10a9f2",
   "metadata": {},
   "source": [
    "#### b) Dado que la duración del ciclo de reloj del microprocesador es de 0,2 nanosegundos (ns), la duración de tres ciclos de reloj se puede calcular de la siguiente manera:\n",
    "\n",
    "#### 3 x 0,2 ns = 0,6 ns\n",
    "\n",
    "#### Por lo tanto, la duración de un tipo particular de instrucción de máquina que consta de tres ciclos de reloj en este microprocesador sería de 0,6 nanosegundos."
   ]
  },
  {
   "cell_type": "markdown",
   "id": "c819b939",
   "metadata": {},
   "source": [
    "## 5. Suppose you wish to run a program P with 7.5 x 10^9 instructions on a 5 GHz machine with a CPI of 0.8.\n",
    "### a. What is the expected CPU time?\n",
    "#### 7.5x10^9 * 0.8 * (1/5,000,000,000) = 1.2 segundos\n",
    "### b. When you run P, it takes 3 seconds of wall clock time to complete. What is the percentage of the CPU time P received?\n",
    "#### CPU time% = 1.2 / 3 = .4 o 40%"
   ]
  },
  {
   "cell_type": "markdown",
   "id": "d9f5da05",
   "metadata": {},
   "source": [
    "## 6. A nonpipelined processor has a clock rate of 2.5 GHz and an average CPI (cycles per instruction) of 4. An upgrade to the processor introduces a five-stage pipeline. However, due to internal pipeline delays, such as latch delay, the clock rate of the new processor has to be reduced to 2 GHz. What is the speedup achieved for a typical program?\n",
    "#### timepo del ciclo = 1/2,500,000,000 = 0.4 nano segundos\n",
    "#### tiempo de ejecucion non pipeline = 1/2,5 = 1.6 = 1.6 nano segundos\n",
    "#### timepo ejecucion pipeline = 1 * 1/2 = 0.5 nano segundos\n",
    "#### aumento de velocidad = 1.6/0.5 = 3.2 veces mas"
   ]
  },
  {
   "cell_type": "code",
   "execution_count": null,
   "id": "c55948ae",
   "metadata": {},
   "outputs": [],
   "source": []
  }
 ],
 "metadata": {
  "kernelspec": {
   "display_name": "Python 3 (ipykernel)",
   "language": "python",
   "name": "python3"
  },
  "language_info": {
   "codemirror_mode": {
    "name": "ipython",
    "version": 3
   },
   "file_extension": ".py",
   "mimetype": "text/x-python",
   "name": "python",
   "nbconvert_exporter": "python",
   "pygments_lexer": "ipython3",
   "version": "3.9.7"
  }
 },
 "nbformat": 4,
 "nbformat_minor": 5
}
